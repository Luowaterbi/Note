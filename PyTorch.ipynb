{
 "cells": [
  {
   "cell_type": "markdown",
   "id": "03c7fae9",
   "metadata": {},
   "source": [
    "## Torch\n",
    "\n",
    "### Torch.topk\n",
    "\n",
    "同tensor.topk\n",
    "\n",
    "<u>torch.topk(input, k, dim=None, largest=True, sorted=True, *, out=None)<u>\n",
    "\n",
    "Returns the k largest elements of the given input tensor along **a given dimension**. 维数不会变化，但是dim维维度减为k\n",
    "\n",
    "If **dim is not given**, the **last dimension** of the input is chosen.\n",
    "\n",
    "If largest is False then the k smallest elements are returned.\n",
    "\n",
    "A namedtuple of (values, indices) is returned, where the indices are the indices of the elements in the original input tensor.\n",
    "\n",
    "The boolean option sorted if True, will make sure that the returned k elements are themselves sorted\n",
    "\n",
    "### Torch.flatten\n",
    "\n",
    "<u>torch.flatten(input, start_dim=0, end_dim=- 1) → Tensor<u>\n",
    "\n",
    "Flattens input by reshaping it into a one-dimensional tensor. If **start_dim** or **end_dim** are passed, only dimensions starting with **start_dim** and ending with **end_dim** are flattened. The order of elements in input is unchanged.\n",
    "\n",
    "Unlike NumPy’s flatten, which always copies input’s data, this function may return the original object, a view, or copy. If no dimensions are flattened, then the original object input is returned. Otherwise, if input can be viewed as the flattened shape, then that view is returned. Finally, only if the input cannot be viewed as the flattened shape is input’s data copied. See torch.Tensor.view() for details on when a view will be returned.\n",
    "\n",
    "NOTE\n",
    "\n",
    "<font color=red>Flattening a zero-dimensional tensor will return a one-dimensional view.</font>\n",
    "\n",
    "### Torch.arange\n",
    "<u>torch.arange(start=0, end, step=1, *, out=None, dtype=None, layout=torch.strided, device=None, requires_grad=False) → Tensor<u>\n",
    "    \n",
    "跟python里面的range()一样"
   ]
  },
  {
   "cell_type": "markdown",
   "id": "963418eb",
   "metadata": {},
   "source": [
    "## Torch.Tensor\n",
    "\n",
    "### Torch.Tensor.scatter_\n",
    "\n",
    "<u>Tensor.scatter_(dim, index, src, reduce=None) → Tensor<u>\n",
    "\n",
    "与Tensor.Tensor.scatter相同\n",
    "\n",
    "Writes all values from the tensor **src** into **self** at the indices specified in the **index** tensor. \n",
    "\n",
    "对于所有src中的值src[i][j][k]坐标为(i,j,k)，将dim维替换成index[i][j][k],假设dim=2，得到新坐标(i,index[i][j][k],k)；在self中新坐标位置，也就是self[i][index[i][j][k]][k]位置填入src[i][j][k].\n",
    "\n",
    "所以shape(index)=shape(src),一一对应；\n",
    "max(index)<=self.shape[dim],替换的坐标不能超过这一维的维度"
   ]
  },
  {
   "cell_type": "code",
   "execution_count": null,
   "id": "b0e4073f",
   "metadata": {},
   "outputs": [],
   "source": []
  }
 ],
 "metadata": {
  "kernelspec": {
   "display_name": "Python [conda env:pytorch]",
   "language": "python",
   "name": "conda-env-pytorch-py"
  },
  "language_info": {
   "codemirror_mode": {
    "name": "ipython",
    "version": 3
   },
   "file_extension": ".py",
   "mimetype": "text/x-python",
   "name": "python",
   "nbconvert_exporter": "python",
   "pygments_lexer": "ipython3",
   "version": "3.9.7"
  },
  "toc": {
   "base_numbering": 1,
   "nav_menu": {},
   "number_sections": true,
   "sideBar": true,
   "skip_h1_title": false,
   "title_cell": "Table of Contents",
   "title_sidebar": "Contents",
   "toc_cell": false,
   "toc_position": {},
   "toc_section_display": true,
   "toc_window_display": true
  },
  "varInspector": {
   "cols": {
    "lenName": 16,
    "lenType": 16,
    "lenVar": 40
   },
   "kernels_config": {
    "python": {
     "delete_cmd_postfix": "",
     "delete_cmd_prefix": "del ",
     "library": "var_list.py",
     "varRefreshCmd": "print(var_dic_list())"
    },
    "r": {
     "delete_cmd_postfix": ") ",
     "delete_cmd_prefix": "rm(",
     "library": "var_list.r",
     "varRefreshCmd": "cat(var_dic_list()) "
    }
   },
   "types_to_exclude": [
    "module",
    "function",
    "builtin_function_or_method",
    "instance",
    "_Feature"
   ],
   "window_display": false
  }
 },
 "nbformat": 4,
 "nbformat_minor": 5
}
